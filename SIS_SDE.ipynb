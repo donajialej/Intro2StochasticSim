{
 "cells": [
  {
   "source": [
    "# SIS model as an SDE\n",
    "\n",
    "$$ dS(t) = (-\\beta SI +\\gamma I)dt - \\sqrt{\\beta SI} dW_1(t) +\\sqrt{\\gamma I}dW_2(t)$$\n",
    "$$ dI(t) = (\\beta SI -\\gamma I)dt + \\sqrt{\\beta SI} dW_1(t) -\\sqrt{\\gamma I}dW_2(t) = -dS(t)$$\n",
    "\n",
    "Let's assume the total population is $N=1000$, and $\\beta = 1/(8N)$, $\\gamma = 1/10$."
   ],
   "cell_type": "markdown",
   "metadata": {}
  },
  {
   "cell_type": "code",
   "execution_count": 1,
   "id": "veterinary-sleeping",
   "metadata": {},
   "outputs": [],
   "source": [
    "import numpy as np\n",
    "from numpy import random\n",
    "import matplotlib.pyplot as plt\n"
   ]
  },
  {
   "source": [
    "Frist, we define the parameters,  $\\Delta t$, and the lenght of the simulation.\n",
    "\n",
    "Then, let's define our Euler-Maruyama initial steps:\n",
    "\n",
    "- Draw the random numbers\n",
    "- Set initial conditions"
   ],
   "cell_type": "markdown",
   "metadata": {}
  },
  {
   "cell_type": "code",
   "execution_count": 92,
   "id": "durable-humidity",
   "metadata": {},
   "outputs": [
    {
     "data": {
      "text/plain": [
       "[<matplotlib.lines.Line2D at 0x7facac534550>]"
      ]
     },
     "execution_count": 92,
     "metadata": {},
     "output_type": "execute_result"
    },
    {
     "data": {
      "image/png": "[encoded data removed]",
      "text/plain": [
       "<matplotlib.figure.Figure at 0x7facac5a6978>"
      ]
     },
     "metadata": {
      "needs_background": "light"
     },
     "output_type": "display_data"
    }
   ],
   "source": [
    "N = 1000\n",
    "gama = 0.1\n",
    "beta =  1/(N*8)\n",
    "\n",
    "tmax = 600 \n",
    "dt = 0.1\n",
    "times = np.arange(0, tmax+dt, dt)\n",
    "NumberOfSteps = len(times)\n",
    "\n",
    "S = np.zeros(NumberOfSteps)\n",
    "I = np.zeros(NumberOfSteps)\n",
    "\n",
    "I[0] = 10\n",
    "S[0] = N - 10\n",
    "\n",
    "Etas=random.randn(2,NumberOfSteps)\n"
   ]
  },
  {
   "source": [],
   "cell_type": "markdown",
   "metadata": {}
  },
  {
   "cell_type": "code",
   "execution_count": null,
   "metadata": {},
   "outputs": [],
   "source": [
    "\n",
    "\n",
    "\n",
    "\n",
    "\n",
    "\n",
    "\n",
    "\n",
    "\n",
    "while currentSteps<NumberOfSteps:\n",
    "    \n",
    "    Rates=[currentState[0]*recoveryRate, InfectionRate*currentState[0]*(Population-currentState[0])]\n",
    "    if(currentState[0]<=0):\n",
    "        currentState[0]=0;\n",
    "        stepsArray[currentSteps]=currentTime;\n",
    "        PositionArray[currentSteps]=currentState[0];\n",
    "        break\n",
    "    stepsArray[currentSteps]=currentTime;\n",
    "    PositionArray[currentSteps]=currentState[0];\n",
    "    \n",
    "    currentTime+= dt;\n",
    "    index=0\n",
    "    while index<2:\n",
    "        numberEvents=(randomNormals[index][currentSteps])*numpy.math.sqrt(Rates[index]*dt) +Rates[index]*dt\n",
    "        currentState= currentState+ActionMatrix[index]*numberEvents;\n",
    "        index=index+1\n",
    "    currentSteps+=1\n",
    "\n",
    "\n",
    "##Once you've created a random walk (or other algorithm) you might want to display it\n",
    "plt.plot(stepsArray,PositionArray,'-b')\n",
    "\n"
   ]
  }
 ],
 "metadata": {
  "kernelspec": {
   "name": "python385jvsc74a57bd0bc38f02317872d5c2d3e8babf2275c65afaacb357c427d5630afa49658612642",
   "display_name": "Python 3.8.5 64-bit ('3.8.5': pyenv)"
  },
  "language_info": {
   "codemirror_mode": {
    "name": "ipython",
    "version": 3
   },
   "file_extension": ".py",
   "mimetype": "text/x-python",
   "name": "python",
   "nbconvert_exporter": "python",
   "pygments_lexer": "ipython3",
   "version": "3.8.5"
  },
  "metadata": {
   "interpreter": {
    "hash": "aee8b7b246df8f9039afb4144a1f6fd8d2ca17a180786b69acc140d282b71a49"
   }
  }
 },
 "nbformat": 4,
 "nbformat_minor": 5
}