{
 "cells": [
  {
   "cell_type": "code",
   "execution_count": 1,
   "id": "veterinary-sleeping",
   "metadata": {},
   "outputs": [],
   "source": [
    "import numpy\n",
    "from numpy import random\n",
    "#matplotlib inline\n",
    "import matplotlib.pyplot as plt\n",
    "## pyplot will let you display your results"
   ]
  },
  {
   "cell_type": "code",
   "execution_count": 2,
   "id": "veterinary-champion",
   "metadata": {},
   "outputs": [
    {
     "data": {
      "text/plain": [
       "2"
      ]
     },
     "execution_count": 2,
     "metadata": {},
     "output_type": "execute_result"
    }
   ],
   "source": [
    "sum(numpy.cumsum([1,2,3])<3.4)"
   ]
  },
  {
   "cell_type": "code",
   "execution_count": 38,
   "id": "durable-humidity",
   "metadata": {},
   "outputs": [
    {
     "data": {
      "text/plain": [
       "[<matplotlib.lines.Line2D at 0x7f568cc81278>]"
      ]
     },
     "execution_count": 38,
     "metadata": {},
     "output_type": "execute_result"
    },
    {
     "data": {
      "image/png": "[encoded data removed]",
      "text/plain": [
       "<matplotlib.figure.Figure at 0x7f568ccfdd68>"
      ]
     },
     "metadata": {
      "needs_background": "light"
     },
     "output_type": "display_data"
    }
   ],
   "source": [
    "#testing testing lols\n",
    "\n",
    "##SIS model\n",
    "\n",
    "Population=1000;\n",
    "recoveryRate=1/10;\n",
    "InfectionRate= 1/(Population*8);\n",
    "\n",
    "\n",
    "NumberOfSteps=160;\n",
    "\n",
    "randomNumbers=random.rand(NumberOfSteps)\n",
    "randomExponentials=random.exponential(1,NumberOfSteps)\n",
    "\n",
    "currentSteps=0;\n",
    "currentState= numpy.asarray([1]);\n",
    "PositionArray= numpy.zeros(NumberOfSteps)\n",
    "stepsArray=numpy.zeros(NumberOfSteps)\n",
    "currentTime=0;\n",
    "\n",
    "\n",
    "ActionMatrix= numpy.asarray([[1]]);\n",
    "\n",
    "##Here we have a basic Gillespie style loop.\n",
    "while currentSteps<NumberOfSteps:\n",
    "    \n",
    "    Rates=[currentState[0]]\n",
    "    if(sum(Rates)==0):\n",
    "        break\n",
    "    stepsArray[currentSteps]=currentTime;\n",
    "    PositionArray[currentSteps]=currentState[0];\n",
    "    \n",
    "    currentTime+= randomExponentials[currentSteps]/sum(Rates)\n",
    "    ActionIndex = sum(randomNumbers[currentSteps]*sum(Rates)>numpy.cumsum(Rates))\n",
    "    currentState=currentState+ActionMatrix[ActionIndex];\n",
    "    currentSteps=currentSteps+1;\n",
    "\n",
    "\n",
    "##Once you've created a random walk (or other algorithm) you might want to display it\n",
    "plt.plot(stepsArray,PositionArray,'-b')\n",
    "\n",
    "\n"
   ]
  },
  {
   "cell_type": "code",
   "execution_count": 30,
   "id": "thirty-while",
   "metadata": {},
   "outputs": [
    {
     "data": {
      "text/plain": [
       "[<matplotlib.lines.Line2D at 0x7f568cfbb208>]"
      ]
     },
     "execution_count": 30,
     "metadata": {},
     "output_type": "execute_result"
    },
    {
     "data": {
      "image/png": "[encoded data removed]",
      "text/plain": [
       "<matplotlib.figure.Figure at 0x7f568d018c18>"
      ]
     },
     "metadata": {
      "needs_background": "light"
     },
     "output_type": "display_data"
    }
   ],
   "source": [
    "#testing testing lols\n",
    "\n",
    "##SIS model\n",
    "\n",
    "Population=6000;\n",
    "recoveryRate=1/10;\n",
    "InfectionRate= 1/(Population*8);\n",
    "\n",
    "\n",
    "NumberOfSteps=600;\n",
    "\n",
    "randomNumbers=random.rand(NumberOfSteps)\n",
    "randomExponentials=random.exponential(1,NumberOfSteps)\n",
    "randomNormals=random.randn(2,NumberOfSteps)\n",
    "\n",
    "currentSteps=0;\n",
    "currentState= numpy.asarray([1]);\n",
    "PositionArray= numpy.zeros(NumberOfSteps)\n",
    "stepsArray=numpy.zeros(NumberOfSteps)\n",
    "currentTime=0;\n",
    "\n",
    "ActionMatrix= numpy.asarray([[1]]);\n",
    "dt=0.01;\n",
    "\n",
    "while currentSteps<NumberOfSteps:\n",
    "    \n",
    "    Rates=[currentState[0]]\n",
    "    if(currentState[0]<=0):\n",
    "        currentState[0]=0;\n",
    "        stepsArray[currentSteps]=currentTime;\n",
    "        PositionArray[currentSteps]=currentState[0];\n",
    "        break\n",
    "    stepsArray[currentSteps]=currentTime;\n",
    "    PositionArray[currentSteps]=currentState[0];\n",
    "    \n",
    "    currentTime+= dt;\n",
    "    index=0\n",
    "    while index<1:\n",
    "        numberEvents=(randomNormals[index][currentSteps])*numpy.math.sqrt(Rates[index]*dt) +Rates[index]*dt\n",
    "        currentState= currentState+ActionMatrix[index]*numberEvents;\n",
    "        index=index+1\n",
    "    currentSteps+=1\n",
    "\n",
    "\n",
    "##Once you've created a random walk (or other algorithm) you might want to display it\n",
    "plt.plot(stepsArray,PositionArray,'-b')\n",
    "\n",
    "\n"
   ]
  },
  {
   "cell_type": "code",
   "execution_count": 57,
   "id": "otherwise-williams",
   "metadata": {},
   "outputs": [
    {
     "name": "stdout",
     "output_type": "stream",
     "text": [
      "[[ 2.82416494  0.36358113  0.47885088 ...  0.75810799  0.63606778\n",
      "  -0.95803487]\n",
      " [ 0.23967686 -1.40080168 -0.3630813  ... -1.02728909  0.57687217\n",
      "  -0.56849817]]\n"
     ]
    }
   ],
   "source": [
    "randomNormals=random.randn(2,NumberOfSteps)\n",
    "print(randomNormals)"
   ]
  }
 ],
 "metadata": {
  "kernelspec": {
   "display_name": "Python 3",
   "language": "python",
   "name": "python3"
  },
  "language_info": {
   "codemirror_mode": {
    "name": "ipython",
    "version": 3
   },
   "file_extension": ".py",
   "mimetype": "text/x-python",
   "name": "python",
   "nbconvert_exporter": "python",
   "pygments_lexer": "ipython3",
   "version": "3.6.9"
  }
 },
 "nbformat": 4,
 "nbformat_minor": 5
}
