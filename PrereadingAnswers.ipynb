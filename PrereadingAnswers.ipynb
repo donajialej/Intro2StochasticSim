{
 "cells": [
  {
   "cell_type": "code",
   "execution_count": 6,
   "metadata": {},
   "outputs": [],
   "source": [
    "import numpy\n",
    "from numpy import random\n",
    "#matplotlib inline\n",
    "import matplotlib.pyplot as plt"
   ]
  },
  {
   "cell_type": "markdown",
   "metadata": {},
   "source": [
    "Here we give some example answers to the exrecises provided in the pre-reading. For each question, what we give here is only one POSSIBLE set of answers. There are plenty of other methods or arguments that could also be used to reach similar conclusions. In general the answers we give here are more detailed and thorough than might be expected if you were solving these problems in practice.   [ALE, THIS NEEDS BETTER WORDING]"
   ]
  },
  {
   "cell_type": "code",
   "execution_count": 15,
   "metadata": {},
   "outputs": [
    {
     "name": "stdout",
     "output_type": "stream",
     "text": [
      "Mean first apple: 0.9868431151035234\n",
      "Mean last apple: 29.27777326754704\n",
      "analytic total apple time: 29.289682539682538\n"
     ]
    }
   ],
   "source": [
    "## Answers to Pre-reading Exercises\n",
    "\n",
    "## Question 1: apples\n",
    "\n",
    "\n",
    "##Step 1: simulate a large number of apples.\n",
    "\n",
    "AverageFallTime=10\n",
    "numApples=10;\n",
    "numSamples=10000\n",
    "Samples= random.exponential(AverageFallTime,[numSamples,numApples])\n",
    "\n",
    "FirstApple= Samples.min(axis=1)\n",
    "LastApple=Samples.max(axis=1)\n",
    "\n",
    "AverageFirstApple=numpy.mean(FirstApple)\n",
    "AverageLastApple=numpy.mean(LastApple)\n",
    "\n",
    "print(\"Mean first apple:\",AverageFirstApple)\n",
    "print(\"Mean last apple:\",AverageLastApple)\n",
    "\n",
    "\n",
    "\n"
   ]
  },
  {
   "cell_type": "markdown",
   "metadata": {},
   "source": [
    "\n",
    "Analytic treatment. \"first apple\"\n",
    "\n",
    "Each apply takes 10 days on average to fall, hence the `rate` of apple dropping is 1/10 per apple.\n",
    "Time until first apply is minimum of 10 exponential random variables. The minimum of multiple exponential distributions is an exponential distribution with rate equal to the sum of individual rates.\n",
    "Hence:\n",
    "$$\\lambda_{min}= \\frac{1}{10}+\\frac{1}{10}+...\\frac{1}{10}=\\frac{10}{10}=1$$\n",
    "The mean time until first apple is thus 1 day. This matches our simulations.\n",
    "\n",
    "\n",
    "Finding out the expected time until *all* the apples drop takes a little more work. In order to determine this, it is useful to first consider `how long until the *second* apple drops?`. After the first apple drops, there are nine apples remaining, and hence the time between the first and second apple is an exponential random variable with rate 9/10 apples per day. Thus, the expected time for between the first and second apples is 10/9 days.\n",
    "\n",
    "The total time for two apples to drop is hence $1 day+ 10/9 days$ days.\n",
    "\n",
    "Similar working can be used to determine the time until the 3rd, 4th etc apples drop, with the rate of apples falling steadily decreasing.\n",
    "\n",
    "This leads to:\n",
    "$$ \\lambda_{10->9}= \\frac{10}{10} , \\lambda_{9->8}= \\frac{9}{10}, \\lambda_{8->7}= \\frac{8}{10} ,...\\lambda_{1->0}= \\frac{1}{10}$$\n",
    "\n",
    "$$ E(T_{10->9})= \\frac{10}{10} , E(T_{9->8})= \\frac{10}{9}, E(T_{8->7})= \\frac{10}{9} ,...E(T_{1->0})= \\frac{10}{1}$$\n",
    "\n",
    "$$ E(T_{10->0})= \\sum \\left[\\frac{10}{10}+\\frac{10}{9}+\\frac{10}{8}+...+\\frac{10}{1} \\right] \\approx 29.2897$$\n",
    "\n",
    "Hence, the expected time for all apples to drop is roughly 29.3days. This matches the observed results from simulations."
   ]
  },
  {
   "cell_type": "markdown",
   "metadata": {},
   "source": [
    "\n",
    "Question 2: **Is the weather a Markov Chain**\n",
    "\n",
    "In the pre-reading, we gave weather systems as examples of continuous time Markov chain with discrete states.\n",
    "This inevitably leads to the question other weather of not this is a GOOD model of the weather... and the answer is... it depends.\n",
    "\n",
    "If you are planning predict the weather across an entire year, then naturally the cycles of summer and winter, wet season and dry are going to have a significant impact on how the weather behaves at any given time: the system is NOT memoryless, because it remembers that it has been 6 weeks since the height of summer.\n",
    "On a day by day basis, the time of day is going to effect the weather: in some places you can set your clock by when to expect the afternoon rains, while in others rain and sunshine might flip flop back and forward in a much less predictable manner. Even so the sky only has a finite amount of water: the longer a downpour has been going, the more likely it is to end, simple because at some point the sky will have poured down every last drop of water.\n",
    "\n",
    "There are other systems for which Markov chains are a much better model... however these systems are often much less familiar, and far more technical (examples include signals passing through an internet central router).\n",
    "\n",
    "\n",
    "*AJL: Ale- this explain doesn't feel great. Do you have anything to add?*\n"
   ]
  },
  {
   "cell_type": "code",
   "execution_count": 42,
   "metadata": {},
   "outputs": [
    {
     "name": "stdout",
     "output_type": "stream",
     "text": [
      "We hit -5 before +10 in  6630  out of  10000  simulations\n"
     ]
    }
   ],
   "source": [
    "#Question 3: biased random walks\n",
    "\n",
    "Samples=1000;  #This is the number of samples.\n",
    "Wins=0\n",
    "sss=0;\n",
    "\n",
    "while( sss<Samples):\n",
    "    pos=0; #Current position\n",
    "    \n",
    "    while((pos>-5)&(pos<10)): #Continue running the simulation as long as we are in bounds.\n",
    "        if(random.rand()<0.4): ##Flip a BIASED coin. 40% of the time we go 3 steps up.\n",
    "            pos=pos+3;\n",
    "        else:   ##The rest of the time we go two steps down.\n",
    "            pos=pos-2;\n",
    "    \n",
    "    ##End of inner while loop.\n",
    "    \n",
    "    if(pos<=-5):\n",
    "        Wins=Wins+1; #we have reached -5 BEFORE +10\n",
    "    \n",
    "    sss=sss+1\n",
    "    \n",
    "##End of outer loop.\n",
    "\n",
    "    \n",
    "print(\"We hit -5 before +10 in \", Wins,\" out of \",Samples,\" simulations\" )\n",
    "\n"
   ]
  },
  {
   "cell_type": "code",
   "execution_count": 66,
   "metadata": {},
   "outputs": [
    {
     "data": {
      "text/plain": [
       "[<matplotlib.lines.Line2D at 0x7fa027c427f0>]"
      ]
     },
     "execution_count": 66,
     "metadata": {},
     "output_type": "execute_result"
    },
    {
     "data": {
      "image/png": "[encoded data removed]",
      "text/plain": [
       "<matplotlib.figure.Figure at 0x7fa027c9eb70>"
      ]
     },
     "metadata": {
      "needs_background": "light"
     },
     "output_type": "display_data"
    }
   ],
   "source": [
    "#   Question 4: produce a brownian motion.\n",
    "\n",
    "NumberOfSteps=1000;\n",
    "\n",
    "randomNormals=random.randn(NumberOfSteps)\n",
    "PositionArray=numpy.zeros(NumberOfSteps);\n",
    "TimeArray=numpy.zeros(NumberOfSteps);\n",
    "\n",
    "currentSteps=1;\n",
    "\n",
    "\n",
    "dt=0.01;\n",
    "\n",
    "while currentSteps<NumberOfSteps:\n",
    "  \n",
    "    PositionArray[currentSteps]=PositionArray[currentSteps-1] + (randomNormals[currentSteps])*numpy.math.sqrt(dt);\n",
    "    TimeArray[currentSteps]=TimeArray[currentSteps-1] + dt;\n",
    "    currentSteps+=1\n",
    "\n",
    "\n",
    "##Once you've created a random walk (or other algorithm) you might want to display it\n",
    "plt.plot(TimeArray,PositionArray,'-b')\n",
    "\n",
    "\n",
    "\n",
    "\n",
    "\n",
    "\n",
    "\n",
    "randomNormals=random.randn(NumberOfSteps)\n",
    "currentSteps=1;\n",
    "\n",
    "while currentSteps<NumberOfSteps:\n",
    "  \n",
    "    PositionArray[currentSteps]=PositionArray[currentSteps-1] + (randomNormals[currentSteps])*numpy.math.sqrt(dt);\n",
    "    TimeArray[currentSteps]=TimeArray[currentSteps-1] + dt;\n",
    "    currentSteps+=1\n",
    "\n",
    "\n",
    "##Once you've created a random walk (or other algorithm) you might want to display it\n",
    "plt.plot(TimeArray,PositionArray,'-r')\n",
    "\n",
    "\n",
    "\n",
    "\n",
    "\n",
    "\n",
    "randomNormals=random.randn(NumberOfSteps)\n",
    "currentSteps=1;\n",
    "\n",
    "while currentSteps<NumberOfSteps:\n",
    "  \n",
    "    PositionArray[currentSteps]=PositionArray[currentSteps-1] + (randomNormals[currentSteps])*numpy.math.sqrt(dt);\n",
    "    TimeArray[currentSteps]=TimeArray[currentSteps-1] + dt;\n",
    "    currentSteps+=1\n",
    "\n",
    "\n",
    "##Once you've created a random walk (or other algorithm) you might want to display it\n",
    "plt.plot(TimeArray,PositionArray,'-g')\n",
    "\n"
   ]
  }
 ],
 "metadata": {
  "kernelspec": {
   "display_name": "Python 3",
   "language": "python",
   "name": "python3"
  },
  "language_info": {
   "codemirror_mode": {
    "name": "ipython",
    "version": 3
   },
   "file_extension": ".py",
   "mimetype": "text/x-python",
   "name": "python",
   "nbconvert_exporter": "python",
   "pygments_lexer": "ipython3",
   "version": "3.6.9"
  }
 },
 "nbformat": 4,
 "nbformat_minor": 4
}
