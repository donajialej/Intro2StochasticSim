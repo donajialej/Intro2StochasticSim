{
 "cells": [
  {
   "cell_type": "code",
   "execution_count": 1,
   "id": "another-range",
   "metadata": {},
   "outputs": [],
   "source": [
    "\n",
    "## This is a basic template notbook. \n",
    "## It contains all the things you will need in order to jigsaw togeather your SDE and Gillespie algorithm.\n",
    "\n",
    "##It is assumed  you've done scripting before, \n",
    "# but this notebook should help you out with scripting in python in particular.\n"
   ]
  },
  {
   "cell_type": "code",
   "execution_count": 2,
   "id": "requested-bread",
   "metadata": {},
   "outputs": [],
   "source": [
    "##First off, you'll want to import numpy   (Pythons Numerics package)\n",
    "import numpy\n",
    "from numpy import random\n",
    "#matplotlib inline\n",
    "import matplotlib.pyplot as plt\n",
    "## pyplot will let you display your results"
   ]
  },
  {
   "cell_type": "code",
   "execution_count": 26,
   "id": "recovered-donor",
   "metadata": {},
   "outputs": [
    {
     "name": "stdout",
     "output_type": "stream",
     "text": [
      "\n",
      "Unit interval\n",
      "0.4446639106466459\n",
      "[[0.24728572 0.9367741  0.79953701 0.23538091 0.54865783]\n",
      " [0.80897448 0.01740013 0.7819988  0.34920042 0.91205506]\n",
      " [0.48963325 0.73639312 0.21188472 0.70026887 0.56430495]]\n"
     ]
    }
   ],
   "source": [
    "## For both SDE's and Gillespies algorithm, you will need to \n",
    "#  generate random numbers, of various different shapes and sizes.\n",
    "print(\"\")\n",
    "print(\"Unit interval\")\n",
    "x = random.rand() ##This generates a single random number between 0 and 1.\n",
    "print(x) \n",
    "\n",
    "x = random.rand(3, 5)##This generates an array of random numbers between 0 and 1.\n",
    "print(x) "
   ]
  },
  {
   "cell_type": "code",
   "execution_count": 27,
   "id": "expected-fountain",
   "metadata": {},
   "outputs": [
    {
     "name": "stdout",
     "output_type": "stream",
     "text": [
      "\n",
      "Normals\n",
      "0.8764917674239375\n",
      "1.3538599086417789\n"
     ]
    }
   ],
   "source": [
    "print(\"\")\n",
    "print(\"Normals\")\n",
    "N = random.randn() ##This generates a standard normally distributed random variable (mean 0, variance 1)\n",
    "print(N)\n",
    "\n",
    "meanVal=1;\n",
    "Variance=2.5;\n",
    "N=meanVal + numpy.math.sqrt(Variance) * random.randn();\n",
    "print(N);  ##This produces a normal random variable with mean 1 and variance 2.5.\n",
    "\n",
    "## You'll need these for SDE's"
   ]
  },
  {
   "cell_type": "code",
   "execution_count": 50,
   "id": "adapted-carry",
   "metadata": {},
   "outputs": [
    {
     "name": "stdout",
     "output_type": "stream",
     "text": [
      "\n",
      "Exponentials\n",
      "6.1617070292493095\n",
      "[[ 0.81400191  4.40423471]\n",
      " [ 0.03231279  1.38260729]\n",
      " [ 3.93155511  4.55185678]\n",
      " [ 3.95233881 10.68197837]\n",
      " [ 3.30553049  0.54858186]\n",
      " [ 4.47880032  2.54823183]\n",
      " [ 3.34543183  1.23974059]\n",
      " [ 0.74829666  3.82068358]]\n"
     ]
    }
   ],
   "source": [
    "print(\"\")\n",
    "print(\"Exponentials\")\n",
    "x= random.exponential(4)  ##Creates an exponentially distributed random variable with mean 4.\n",
    "print(x)\n",
    "\n",
    "x= random.exponential(3,[8,2])  ##Creates lots of exponentially distributed random variable with mean 3.\n",
    "print(x)\n",
    "\n",
    "## You'll need these for Gillespie's algorithm"
   ]
  },
  {
   "cell_type": "code",
   "execution_count": null,
   "id": "crazy-bonus",
   "metadata": {},
   "outputs": [],
   "source": []
  },
  {
   "cell_type": "code",
   "execution_count": 95,
   "id": "pressed-ferry",
   "metadata": {},
   "outputs": [
    {
     "name": "stdout",
     "output_type": "stream",
     "text": [
      "a is greater than b\n",
      "Heads\n"
     ]
    }
   ],
   "source": [
    "\n",
    "a = 200\n",
    "b = 56\n",
    "if b > a:\n",
    "    print(\"b is greater than a\")\n",
    "elif a>b:\n",
    "    print(\"a is greater than b\")\n",
    "else:\n",
    "    print(\"a and b are the same size\")\n",
    "##In python, \"Tabs\" are used as part of the program.\n",
    "# The fact that \"print\" is indented helps define the \"scope\" of the program.\n",
    "## Many other programming languages would use \"{\" and \"}\" to define scope instead. \n",
    "#These curly brackets are not needed here.\n",
    "\n",
    "## \"elif\" is python's version of \"else if\". \n",
    "\n",
    "if random.rand() > 0.5:\n",
    "    print(\"Heads\")\n",
    "else:\n",
    "    print(\"Tails\")\n"
   ]
  },
  {
   "cell_type": "code",
   "execution_count": 237,
   "id": "threaded-wonder",
   "metadata": {},
   "outputs": [
    {
     "name": "stdout",
     "output_type": "stream",
     "text": [
      "3\n",
      "[1, 0, 0]\n"
     ]
    }
   ],
   "source": [
    "#If you want to select an item from a weighted list, then use\n",
    "\n",
    "weights=[10,10,1,60,19];\n",
    "SelectIndex = sum(random.rand()*sum(weights)>numpy.cumsum(weights))\n",
    "print(SelectIndex)\n",
    "##This example will select index 4 60% of the time, and index 3 1% of the time. \n",
    "#Rates don't have to sum to one, rescalling is implict\n"
   ]
  },
  {
   "cell_type": "code",
   "execution_count": 239,
   "id": "proved-shannon",
   "metadata": {},
   "outputs": [
    {
     "name": "stdout",
     "output_type": "stream",
     "text": [
      "[0, -1, 1]\n",
      "27\n"
     ]
    }
   ],
   "source": [
    "# Metrices are defined as lists of lists:\n",
    "\n",
    "ActionMatrix= [[-1,1,0],[0,-1,+1],[-1,-1,+27],[1,0,0],[0,-1,0]]\n",
    "\n",
    "#You can access individual rows using\n",
    "a= ActionMatrix[1]  \n",
    "#Row indexing starts at 0 and runs to n-1.\n",
    "\n",
    "#You can access individual entries via:\n",
    "b=ActionMatrix[2][2]  \n",
    "\n",
    "print(a)\n",
    "print(b)"
   ]
  },
  {
   "cell_type": "code",
   "execution_count": 99,
   "id": "second-implementation",
   "metadata": {},
   "outputs": [
    {
     "name": "stdout",
     "output_type": "stream",
     "text": [
      "1\n",
      "2\n",
      "3\n",
      "4\n",
      "5\n",
      "The loop is done\n"
     ]
    }
   ],
   "source": [
    "## Loops allow you to tell the computer to repeat an action many many times. \n",
    "## For both SDEs and Gillespie you are likely to have at least one \"Main loop\",\n",
    "## and possibly several smaller ones.\n",
    "\n",
    "i = 1\n",
    "while i <= 5:\n",
    "    print(i)\n",
    "    i += 1\n",
    "print(\"The loop is done\")\n",
    "##Once again \"Tabs\" are a critical part of how python functions. "
   ]
  },
  {
   "cell_type": "code",
   "execution_count": 11,
   "id": "clean-sherman",
   "metadata": {},
   "outputs": [
    {
     "name": "stdout",
     "output_type": "stream",
     "text": [
      "Loop done\n",
      "[ 1.  2.  3.  4.  5.  6.  5.  6.  7.  6.  7.  8.  7.  6.  5.  6.  5.  6.\n",
      "  7.  8.  7.  8.  7.  8.  9.  8.  9. 10. 11. 10.  9. 10. 11. 12. 11. 12.\n",
      " 11. 10.  9. 10.  9.  8.  9. 10. 11.]\n"
     ]
    },
    {
     "data": {
      "text/plain": [
       "[<matplotlib.lines.Line2D at 0x7f8f139d8cc0>]"
      ]
     },
     "execution_count": 11,
     "metadata": {},
     "output_type": "execute_result"
    },
    {
     "data": {
      "image/png": "[encoded data removed]",
      "text/plain": [
       "<matplotlib.figure.Figure at 0x7f8f13be8940>"
      ]
     },
     "metadata": {
      "needs_background": "light"
     },
     "output_type": "display_data"
    }
   ],
   "source": [
    "## Example loop: the random walk\n",
    "\n",
    "NumberOfSteps=45;\n",
    "\n",
    "randomNumbers=random.rand(NumberOfSteps)\n",
    "\n",
    "currentSteps=0;\n",
    "currentPosition=0;\n",
    "PositionArray= numpy.zeros(NumberOfSteps)\n",
    "stepsArray=numpy.zeros(NumberOfSteps)\n",
    "\n",
    "while currentSteps<NumberOfSteps:\n",
    "    stepsArray[currentSteps]=currentSteps;\n",
    "    if randomNumbers[currentSteps]<0.55: ##We have a biased random walk. It moves up 55% of the time, and down 45%\n",
    "        currentPosition=currentPosition+1;\n",
    "    else:\n",
    "        currentPosition=currentPosition-1;\n",
    "    PositionArray[currentSteps]=currentPosition;\n",
    "    currentSteps=currentSteps+1;\n",
    "    \n",
    "print(\"Loop done\");\n",
    "print(PositionArray);\n",
    "\n",
    "##Once you've created a random walk (or other algorithm) you might want to display it\n",
    "plt.plot(stepsArray,PositionArray,'*-b')\n"
   ]
  },
  {
   "cell_type": "code",
   "execution_count": 208,
   "id": "prime-design",
   "metadata": {},
   "outputs": [
    {
     "ename": "SyntaxError",
     "evalue": "invalid syntax (<ipython-input-208-223c126c0de4>, line 1)",
     "output_type": "error",
     "traceback": [
      "\u001b[0;36m  File \u001b[0;32m\"<ipython-input-208-223c126c0de4>\"\u001b[0;36m, line \u001b[0;32m1\u001b[0m\n\u001b[0;31m    [1,2,3;4,5,6]\u001b[0m\n\u001b[0m          ^\u001b[0m\n\u001b[0;31mSyntaxError\u001b[0m\u001b[0;31m:\u001b[0m invalid syntax\n"
     ]
    }
   ],
   "source": []
  }
 ],
 "metadata": {
  "kernelspec": {
   "display_name": "Python 3",
   "language": "python",
   "name": "python3"
  },
  "language_info": {
   "codemirror_mode": {
    "name": "ipython",
    "version": 3
   },
   "file_extension": ".py",
   "mimetype": "text/x-python",
   "name": "python",
   "nbconvert_exporter": "python",
   "pygments_lexer": "ipython3",
   "version": "3.6.9"
  }
 },
 "nbformat": 4,
 "nbformat_minor": 5
}
